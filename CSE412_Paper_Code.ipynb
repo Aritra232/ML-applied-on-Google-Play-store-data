{
  "nbformat": 4,
  "nbformat_minor": 0,
  "metadata": {
    "colab": {
      "provenance": []
    },
    "kernelspec": {
      "name": "python3",
      "display_name": "Python 3"
    },
    "language_info": {
      "name": "python"
    }
  },
  "cells": [
    {
      "cell_type": "code",
      "execution_count": null,
      "metadata": {
        "colab": {
          "base_uri": "https://localhost:8080/"
        },
        "id": "bHgfBMQgkwHX",
        "outputId": "4b28dbb5-76b3-40bc-85ca-b5837946ec96"
      },
      "outputs": [
        {
          "output_type": "stream",
          "name": "stdout",
          "text": [
            "Drive already mounted at /content/drive; to attempt to forcibly remount, call drive.mount(\"/content/drive\", force_remount=True).\n"
          ]
        }
      ],
      "source": [
        "from google.colab import drive\n",
        "\n",
        "# Mount Google Drive\n",
        "drive.mount('/content/drive')"
      ]
    },
    {
      "cell_type": "markdown",
      "source": [
        "# **Final for category**"
      ],
      "metadata": {
        "id": "jOra3THqWGYJ"
      }
    },
    {
      "cell_type": "code",
      "source": [
        "import pandas as pd\n",
        "from sklearn.preprocessing import MinMaxScaler\n",
        "\n",
        "# Load the dataset\n",
        "url = \"/content/drive/MyDrive/Google Play Store/googleplaystore.csv\"  # Replace with the actual URL or file path\n",
        "df = pd.read_csv(url)\n",
        "\n",
        "# Drop rows with NaN values in 'App', 'Category', 'Rating', or 'Installs' columns\n",
        "df = df.dropna(subset=['App', 'Category', 'Rating', 'Installs'])\n",
        "\n",
        "# Remove rows where 'App' or 'Category' columns contain numeric values\n",
        "df = df[~df['App'].str.isnumeric() & ~df['Category'].str.isnumeric()]\n",
        "\n",
        "# Remove rows with duplicate values in the 'App' column\n",
        "df = df.drop_duplicates(subset=['App'])\n",
        "\n",
        "# Convert 'Rating' column to numeric for filtering\n",
        "df['Rating'] = pd.to_numeric(df['Rating'], errors='coerce')\n",
        "\n",
        "# Remove rows where 'Rating' is greater than 5.0\n",
        "df = df[df['Rating'] <= 5.0]\n",
        "\n",
        "# Convert 'Size' column to numeric values in million\n",
        "def convert_size_to_million(size):\n",
        "    if 'M' in size:\n",
        "        return int(float(size.replace('M', '')) * 1e6)\n",
        "    elif 'k' in size:\n",
        "        return int(float(size.replace('k', '')) * 1e3)\n",
        "    else:\n",
        "        return size\n",
        "\n",
        "# Remove rows where 'Size' column contains 'Varies with device'\n",
        "df = df[df['Size'] != 'Varies with device']\n",
        "\n",
        "df['Size'] = df['Size'].apply(convert_size_to_million)\n",
        "\n",
        "# Remove the '+' sign from 'Installs' column\n",
        "df['Installs'] = df['Installs'].str.replace('+', '').str.replace(',', '')\n",
        "\n",
        "# Sort the DataFrame by 'Rating' in descending order\n",
        "sorted_df = df.sort_values(by='Rating', ascending=False)\n",
        "\n",
        "\n",
        "\n",
        "# Extract the columns for normalization\n",
        "columns_to_normalize = ['Rating', 'Size', 'Installs']\n",
        "data_to_normalize = sorted_df[columns_to_normalize]\n",
        "\n",
        "# Apply min-max normalization\n",
        "scaler = MinMaxScaler()\n",
        "normalized_data = scaler.fit_transform(data_to_normalize)\n",
        "\n",
        "# Replace the original columns with normalized values\n",
        "sorted_df[columns_to_normalize] = normalized_data\n",
        "\n",
        "# Display the 'App', 'Rating', 'Size', and 'Installs' columns with normalized values\n",
        "result = sorted_df[['App', 'Rating', 'Size', 'Installs']]\n",
        "print(\"Normalized Data:\")\n",
        "print(result)\n",
        "\n",
        "# Describe the normalized columns\n",
        "normalized_stats = result[columns_to_normalize].describe()\n",
        "print(\"\\nNormalized Columns Statistics:\")\n",
        "print(normalized_stats)\n",
        "\n"
      ],
      "metadata": {
        "id": "aTIyIP1B4uGj",
        "colab": {
          "base_uri": "https://localhost:8080/"
        },
        "outputId": "9848ab81-d1f8-4446-f4f6-41032a0327c9"
      },
      "execution_count": null,
      "outputs": [
        {
          "output_type": "stream",
          "name": "stdout",
          "text": [
            "Normalized Data:\n",
            "                                                    App  Rating      Size  \\\n",
            "7204          TI-84 CE Graphing Calculator Manual TI 84     1.0  0.269938   \n",
            "5795                                   Axe Champs! Wars     1.0  0.249936   \n",
            "8104                           Cy-Fair Christian Church     1.0  0.092923   \n",
            "8102                          Cy-Fair VFD EMS Protocols     1.0  0.199932   \n",
            "8063                            cx advance call blocker     1.0  0.033918   \n",
            "...                                                 ...     ...       ...   \n",
            "6490                                             MbH BM     0.0  0.022917   \n",
            "10591  Lottery Ticket Checker - Florida Results & Lotto     0.0  0.409950   \n",
            "4127                                  Speech Therapy: F     0.0  0.159929   \n",
            "8820                                     DS Creator 2.0     0.0  0.043919   \n",
            "7383                                     Thistletown CI     0.0  0.065921   \n",
            "\n",
            "           Installs  \n",
            "7204   9.900000e-08  \n",
            "5795   4.900000e-08  \n",
            "8104   9.900000e-08  \n",
            "8102   9.900000e-08  \n",
            "8063   4.900000e-08  \n",
            "...             ...  \n",
            "6490   9.900000e-08  \n",
            "10591  4.990000e-07  \n",
            "4127   9.000000e-09  \n",
            "8820   4.990000e-07  \n",
            "7383   9.900000e-08  \n",
            "\n",
            "[7027 rows x 4 columns]\n",
            "\n",
            "Normalized Columns Statistics:\n",
            "            Rating         Size     Installs\n",
            "count  7027.000000  7027.000000  7027.000000\n",
            "mean      0.790156     0.217478     0.004468\n",
            "std       0.139786     0.227284     0.027138\n",
            "min       0.000000     0.000000     0.000000\n",
            "25%       0.750000     0.048919     0.000010\n",
            "50%       0.825000     0.129926     0.000100\n",
            "75%       0.875000     0.309941     0.001000\n",
            "max       1.000000     1.000000     1.000000\n"
          ]
        },
        {
          "output_type": "stream",
          "name": "stderr",
          "text": [
            "<ipython-input-4-2f92dbc37612>:38: FutureWarning: The default value of regex will change from True to False in a future version. In addition, single character regular expressions will *not* be treated as literal strings when regex=True.\n",
            "  df['Installs'] = df['Installs'].str.replace('+', '').str.replace(',', '')\n"
          ]
        }
      ]
    },
    {
      "cell_type": "code",
      "source": [
        "import pandas as pd\n",
        "\n",
        "def categorize_apps(df):\n",
        "    # Set default category to 'C'\n",
        "    df['Category'] = 'C'\n",
        "\n",
        "    # Category A\n",
        "    condition_a = (df['Rating'] >= 0.875) & (df['Size'] >= 0.309941) & (df['Installs'] >= 0.001)\n",
        "    df.loc[condition_a, 'Category'] = 'A'\n",
        "\n",
        "    # Category B\n",
        "    condition_b = ((0.750 <= df['Rating']) & (df['Rating'] < 0.875)) & ((0.048919 <= df['Size']) & (df['Size'] < 0.309941)) & ((0.00001 <= df['Installs']) & (df['Installs'] < 0.001))\n",
        "    df.loc[condition_b, 'Category'] = 'B'\n",
        "\n",
        "    return df\n",
        "\n",
        "\n",
        "df = pd.DataFrame(result)\n",
        "\n",
        "# Assuming your dataset is named df\n",
        "# Call the function to categorize apps\n",
        "df = categorize_apps(df)\n",
        "\n",
        "# Display or inspect the resulting DataFrame\n",
        "print(\"DataFrame with 'Category' column:\")\n",
        "print(df[['App', 'Rating', 'Size', 'Installs', 'Category']])\n",
        "\n",
        "# Save the final result to a CSV file\n",
        "df.to_csv('/content/drive/MyDrive/Google Play Store/category.csv', index=False)\n"
      ],
      "metadata": {
        "id": "M1eme2bEc5vf",
        "colab": {
          "base_uri": "https://localhost:8080/"
        },
        "outputId": "b73f0a31-2453-4d16-9dc5-8724ec65fad5"
      },
      "execution_count": null,
      "outputs": [
        {
          "output_type": "stream",
          "name": "stdout",
          "text": [
            "DataFrame with 'Category' column:\n",
            "                                                    App  Rating      Size  \\\n",
            "7204          TI-84 CE Graphing Calculator Manual TI 84     1.0  0.269938   \n",
            "5795                                   Axe Champs! Wars     1.0  0.249936   \n",
            "8104                           Cy-Fair Christian Church     1.0  0.092923   \n",
            "8102                          Cy-Fair VFD EMS Protocols     1.0  0.199932   \n",
            "8063                            cx advance call blocker     1.0  0.033918   \n",
            "...                                                 ...     ...       ...   \n",
            "6490                                             MbH BM     0.0  0.022917   \n",
            "10591  Lottery Ticket Checker - Florida Results & Lotto     0.0  0.409950   \n",
            "4127                                  Speech Therapy: F     0.0  0.159929   \n",
            "8820                                     DS Creator 2.0     0.0  0.043919   \n",
            "7383                                     Thistletown CI     0.0  0.065921   \n",
            "\n",
            "           Installs Category  \n",
            "7204   9.900000e-08        C  \n",
            "5795   4.900000e-08        C  \n",
            "8104   9.900000e-08        C  \n",
            "8102   9.900000e-08        C  \n",
            "8063   4.900000e-08        C  \n",
            "...             ...      ...  \n",
            "6490   9.900000e-08        C  \n",
            "10591  4.990000e-07        C  \n",
            "4127   9.000000e-09        C  \n",
            "8820   4.990000e-07        C  \n",
            "7383   9.900000e-08        C  \n",
            "\n",
            "[7027 rows x 5 columns]\n"
          ]
        }
      ]
    },
    {
      "cell_type": "code",
      "source": [
        "# Display counts for each category\n",
        "category_counts = df['Category'].value_counts()\n",
        "print('\\nCategory Counts:')\n",
        "print(category_counts)"
      ],
      "metadata": {
        "colab": {
          "base_uri": "https://localhost:8080/"
        },
        "id": "VkERHbkhT5hq",
        "outputId": "aa459e8b-2391-47d5-b8d2-f669445360ba"
      },
      "execution_count": null,
      "outputs": [
        {
          "output_type": "stream",
          "name": "stdout",
          "text": [
            "\n",
            "Category Counts:\n",
            "C    6083\n",
            "B     755\n",
            "A     189\n",
            "Name: Category, dtype: int64\n"
          ]
        }
      ]
    },
    {
      "cell_type": "markdown",
      "source": [
        "# **Showing specific Apps**"
      ],
      "metadata": {
        "id": "m5FaR5Xo6nUu"
      }
    },
    {
      "cell_type": "code",
      "source": [
        "import pandas as pd\n",
        "\n",
        "# Load the dataset\n",
        "\n",
        "df = pd.DataFrame(result)\n",
        "\n",
        "# Drop rows with NaN values in 'App', 'Category', 'Rating', or 'Installs' columns\n",
        "df = df.dropna(subset=['App', 'Rating', 'Installs'])\n",
        "\n",
        "# Remove rows where 'App' or 'Category' columns contain numeric values\n",
        "df = df[~df['App'].str.isnumeric()]\n",
        "\n",
        "\n",
        "# Remove rows where 'Rating' is greater than 5.0\n",
        "df = df[df['Rating'] <= 5.0]\n",
        "\n",
        "# Remove rows where 'Size' column contains 'Varies with device'\n",
        "df = df[df['Size'] != 'Varies with device']\n",
        "\n",
        "# Remove rows with duplicate values in the 'App' column\n",
        "df = df.drop_duplicates(subset=['App'])\n",
        "\n",
        "# Specify the list of app names to keep\n",
        "app_names_to_keep = [\n",
        "    'English Grammar Complete Handbook',\n",
        "    'Messages, Text and Video Chat for Messenger',\n",
        "    'Hostelworld: Hostels & Cheap Hotels Travel App',\n",
        "    'Helping BD',\n",
        "    'IMDb Movies & TV',\n",
        "    \"McDonald's\",\n",
        "    'Lose Weight in 30 Days',\n",
        "    'Temple Run 2',\n",
        "    'PUBG MOBILE',\n",
        "    'Amazon Shopping',\n",
        "]\n",
        "\n",
        "# Filter the DataFrame to include only the specified app names\n",
        "result = df[df['App'].isin(app_names_to_keep)]\n",
        "\n",
        "# Sort the DataFrame by 'Rating' in descending order\n",
        "sorted_df = result.sort_values(by='Rating', ascending=False)\n",
        "\n",
        "# Display the 'App', 'Category', 'Rating', 'Size', and 'Installs' columns\n",
        "final_result = sorted_df[['App', 'Rating', 'Size', 'Installs']]\n",
        "\n",
        "# Print the final result\n",
        "print(final_result)\n",
        "# Save the result to a new CSV file\n",
        "result.to_csv('/content/drive/MyDrive/Google Play Store/specification.csv', index=False)"
      ],
      "metadata": {
        "colab": {
          "base_uri": "https://localhost:8080/"
        },
        "outputId": "3736e0d6-3edc-4a4b-8e6b-564b1f333984",
        "id": "Ey8lRiaR6nUv"
      },
      "execution_count": null,
      "outputs": [
        {
          "output_type": "stream",
          "name": "stdout",
          "text": [
            "                                                 App  Rating      Size  \\\n",
            "6045                                      Helping BD   1.000  0.044919   \n",
            "1261                          Lose Weight in 30 Days   0.950  0.109924   \n",
            "150                English Grammar Complete Handbook   0.900  0.027917   \n",
            "3113  Hostelworld: Hostels & Cheap Hotels Travel App   0.850  0.279939   \n",
            "2547     Messages, Text and Video Chat for Messenger   0.850  0.039918   \n",
            "1785                                     PUBG MOBILE   0.850  0.359946   \n",
            "2664                                 Amazon Shopping   0.825  0.419951   \n",
            "1661                                    Temple Run 2   0.825  0.619968   \n",
            "888                                 IMDb Movies & TV   0.800  0.119925   \n",
            "1176                                      McDonald's   0.650  0.419951   \n",
            "\n",
            "          Installs  \n",
            "6045  9.900000e-08  \n",
            "1261  9.999999e-03  \n",
            "150   4.999990e-04  \n",
            "3113  9.999990e-04  \n",
            "2547  9.999999e-03  \n",
            "1785  5.000000e-02  \n",
            "2664  1.000000e-01  \n",
            "1661  5.000000e-01  \n",
            "888   1.000000e-01  \n",
            "1176  9.999999e-03  \n"
          ]
        }
      ]
    },
    {
      "cell_type": "code",
      "source": [
        "df = pd.DataFrame(result)\n",
        "\n",
        "# Specify the list of app names to keep\n",
        "app_names_to_keep = [\n",
        "    'English Grammar Complete Handbook',\n",
        "    'Messages, Text and Video Chat for Messenger',\n",
        "    'Hostelworld: Hostels & Cheap Hotels Travel App',\n",
        "    'Helping BD',\n",
        "    'IMDb Movies & TV',\n",
        "    \"McDonald's\",\n",
        "    'Lose Weight in 30 Days',\n",
        "    'Temple Run 2',\n",
        "    'PUBG MOBILE',\n",
        "    'Amazon Shopping',\n",
        "]\n",
        "\n",
        "# Filter the DataFrame to include only the specified app names\n",
        "result = df[df['App'].isin(app_names_to_keep)]\n",
        "\n",
        "# Sort the DataFrame by 'Rating' in descending order\n",
        "sorted_df = result.sort_values(by='Rating', ascending=False)\n",
        "\n",
        "# Display the 'App', 'Category', 'Rating', 'Size', and 'Installs' columns\n",
        "final_result = sorted_df[['App', 'Rating', 'Size', 'Installs']]\n",
        "\n",
        "# Print the final result\n",
        "print(final_result)\n",
        "# Save the result to a new CSV file\n",
        "result.to_csv('/content/drive/MyDrive/Google Play Store/2_specification.csv', index=False)"
      ],
      "metadata": {
        "id": "fMgNKKI_4uDD",
        "colab": {
          "base_uri": "https://localhost:8080/"
        },
        "outputId": "009c20dd-bca0-4240-a7bd-667d2bded01a"
      },
      "execution_count": null,
      "outputs": [
        {
          "output_type": "stream",
          "name": "stdout",
          "text": [
            "                                                 App  Rating      Size  \\\n",
            "6045                                      Helping BD   1.000  0.044919   \n",
            "1261                          Lose Weight in 30 Days   0.950  0.109924   \n",
            "150                English Grammar Complete Handbook   0.900  0.027917   \n",
            "3113  Hostelworld: Hostels & Cheap Hotels Travel App   0.850  0.279939   \n",
            "2547     Messages, Text and Video Chat for Messenger   0.850  0.039918   \n",
            "1785                                     PUBG MOBILE   0.850  0.359946   \n",
            "2664                                 Amazon Shopping   0.825  0.419951   \n",
            "1661                                    Temple Run 2   0.825  0.619968   \n",
            "888                                 IMDb Movies & TV   0.800  0.119925   \n",
            "1176                                      McDonald's   0.650  0.419951   \n",
            "\n",
            "          Installs  \n",
            "6045  9.900000e-08  \n",
            "1261  9.999999e-03  \n",
            "150   4.999990e-04  \n",
            "3113  9.999990e-04  \n",
            "2547  9.999999e-03  \n",
            "1785  5.000000e-02  \n",
            "2664  1.000000e-01  \n",
            "1661  5.000000e-01  \n",
            "888   1.000000e-01  \n",
            "1176  9.999999e-03  \n"
          ]
        }
      ]
    },
    {
      "cell_type": "markdown",
      "source": [
        "# **Model**"
      ],
      "metadata": {
        "id": "n99bvsiC7Z2v"
      }
    },
    {
      "cell_type": "code",
      "source": [
        "import pandas as pd\n",
        "df= pd.read_csv('/content/drive/MyDrive/Google Play Store/category.csv')"
      ],
      "metadata": {
        "id": "uXuIasCP7N-M"
      },
      "execution_count": null,
      "outputs": []
    },
    {
      "cell_type": "code",
      "source": [
        "from sklearn.model_selection import train_test_split\n",
        "from sklearn import svm\n",
        "from sklearn.neighbors import KNeighborsClassifier\n",
        "from sklearn.naive_bayes import GaussianNB\n",
        "from sklearn import metrics\n",
        "import pandas as pd\n",
        "from sklearn.metrics import accuracy_score, f1_score, precision_score, recall_score"
      ],
      "metadata": {
        "id": "lug4dt44Goor"
      },
      "execution_count": null,
      "outputs": []
    },
    {
      "cell_type": "code",
      "source": [
        "#split dataset\n",
        "\n",
        "cols = ['Rating','Size','Installs']\n",
        "X = df[cols]\n",
        "y = df['Category']\n",
        "\n",
        "# Split dataset into training set and test set\n",
        "X_train, X_test, y_train, y_test = train_test_split(X, y, test_size=0.25, random_state=0)"
      ],
      "metadata": {
        "id": "TcRfvhny7j3w"
      },
      "execution_count": null,
      "outputs": []
    },
    {
      "cell_type": "code",
      "source": [
        "#Naive Bayes\n",
        "\n",
        "model1 = GaussianNB()\n",
        "model1.fit(X_train, y_train)\n",
        "y_pred = model1.predict(X_test)\n",
        "\n",
        "print(\"Accuracy:\", accuracy_score(y_test, y_pred)*100)\n",
        "print(\"Precision:\", precision_score(y_test, y_pred, average='macro')*100)\n",
        "print(\"Recall:\", recall_score(y_test, y_pred, average='macro')*100)\n",
        "print(\"F1 Score:\", f1_score(y_test, y_pred, average='macro')*100)"
      ],
      "metadata": {
        "colab": {
          "base_uri": "https://localhost:8080/"
        },
        "id": "zysDmAzQ7nUY",
        "outputId": "c8b25096-f04b-49c5-fb20-a292cadd37a0"
      },
      "execution_count": null,
      "outputs": [
        {
          "output_type": "stream",
          "name": "stdout",
          "text": [
            "Accuracy: 70.34718269778031\n",
            "Precision: 53.97060224186233\n",
            "Recall: 66.31399035432867\n",
            "F1 Score: 52.30382225883656\n"
          ]
        }
      ]
    },
    {
      "cell_type": "code",
      "source": [
        "#SVC\n",
        "model2 = svm.SVC(kernel='linear')\n",
        "model2 = model2.fit(X_train, y_train)\n",
        "y_pred = model2.predict(X_test)\n",
        "\n",
        "print(\"Accuracy:\", accuracy_score(y_test, y_pred)*100)\n",
        "print(\"Precision:\", precision_score(y_test, y_pred, average='macro')*100)\n",
        "print(\"Recall:\", recall_score(y_test, y_pred, average='macro')*100)\n",
        "print(\"F1 Score:\", f1_score(y_test, y_pred, average='macro')*100)"
      ],
      "metadata": {
        "colab": {
          "base_uri": "https://localhost:8080/"
        },
        "id": "WrqHJVJf7prh",
        "outputId": "746ccbf7-dd7a-457b-d9b2-881ae524a3e6"
      },
      "execution_count": null,
      "outputs": [
        {
          "output_type": "stream",
          "name": "stdout",
          "text": [
            "Accuracy: 87.47865680136596\n",
            "Precision: 29.159552267121985\n",
            "Recall: 33.33333333333333\n",
            "F1 Score: 31.107063347500507\n"
          ]
        },
        {
          "output_type": "stream",
          "name": "stderr",
          "text": [
            "/usr/local/lib/python3.10/dist-packages/sklearn/metrics/_classification.py:1344: UndefinedMetricWarning: Precision is ill-defined and being set to 0.0 in labels with no predicted samples. Use `zero_division` parameter to control this behavior.\n",
            "  _warn_prf(average, modifier, msg_start, len(result))\n"
          ]
        }
      ]
    },
    {
      "cell_type": "code",
      "source": [
        "#KNN\n",
        "model3 = KNeighborsClassifier(n_neighbors=5)\n",
        "model3.fit(X_train, y_train)\n",
        "y_pred = model3.predict(X_test)\n",
        "\n",
        "print(\"Accuracy:\", accuracy_score(y_test, y_pred)*100)\n",
        "print(\"Precision:\", precision_score(y_test, y_pred, average='macro')*100)\n",
        "print(\"Recall:\", recall_score(y_test, y_pred, average='macro')*100)\n",
        "print(\"F1 Score:\", f1_score(y_test, y_pred, average='macro')*100)"
      ],
      "metadata": {
        "colab": {
          "base_uri": "https://localhost:8080/"
        },
        "id": "HSqbMpsN7rr4",
        "outputId": "c42ba066-9927-40b6-e429-a55582b153d0"
      },
      "execution_count": null,
      "outputs": [
        {
          "output_type": "stream",
          "name": "stdout",
          "text": [
            "Accuracy: 89.2430278884462\n",
            "Precision: 70.37732549374341\n",
            "Recall: 72.12918395179182\n",
            "F1 Score: 70.35834684385016\n"
          ]
        }
      ]
    }
  ]
}